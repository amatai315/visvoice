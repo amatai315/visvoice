{
 "cells": [
  {
   "cell_type": "code",
   "execution_count": 12,
   "metadata": {},
   "outputs": [],
   "source": [
    "import requests\n",
    "import urllib\n",
    "from bs4 import BeautifulSoup\n",
    "import csv\n",
    "import pprint\n",
    "import json\n",
    "import codecs\n",
    "\n",
    "from selenium import webdriver\n",
    "from selenium.webdriver.common.by import By\n",
    "from selenium.webdriver.support.ui import WebDriverWait\n",
    "from selenium.webdriver.support import expected_conditions as EC\n",
    "from selenium.common.exceptions import TimeoutException\n",
    "import chromedriver_binary"
   ]
  },
  {
   "cell_type": "code",
   "execution_count": 13,
   "metadata": {},
   "outputs": [],
   "source": [
    "json_open = open(\"../data/voice_actors.json\")\n",
    "json_load = json.load(json_open)"
   ]
  },
  {
   "cell_type": "code",
   "execution_count": 18,
   "metadata": {
    "tags": []
   },
   "outputs": [
    {
     "output_type": "stream",
     "name": "stdout",
     "text": [
      "actor:0 麻倉もも\nactor:1 浅沼晋太郎\nactor:2 朝日奈丸佳\nactor:3 阿澄佳奈\nactor:4 天﨑滉平\nactor:5 雨宮天\nactor:6 井口裕香\nactor:7 石川界人\nactor:8 石田彰\nactor:9 伊瀬茉莉也\nactor:10 市ノ瀬加那\nactor:11 伊藤美来\nactor:12 入野自由\nactor:13 上坂すみれ\nactor:14 上田麗奈\nactor:15 内田真礼\nactor:16 内山昂輝\nactor:17 梅原裕一郎\nactor:18 江口拓也\nactor:19 大西沙織\nactor:20 大橋彩香\nactor:21 大山のぶ代\nactor:22 岡本信彦\nactor:23 小倉唯\nactor:24 小野大輔\nactor:25 小野友樹\nactor:26 梶裕貴\nactor:27 加藤英美里\nactor:28 神木隆之介\nactor:29 神谷浩史\nactor:30 茅野愛衣\nactor:31 木村良平\nactor:32 釘宮理恵\nactor:33 桑島法子\nactor:34 KENN\nactor:35 古賀葵\nactor:36 小西克幸\nactor:37 小原好美\nactor:38 子安武人\nactor:39 斉藤壮馬\nactor:40 坂本真綾\nactor:41 佐倉綾音\nactor:42 櫻井孝宏\nactor:43 佐藤聡美\nactor:44 沢城みゆき\nactor:45 島﨑信長\nactor:46 下野紘\nactor:47 杉田智和\nactor:48 諏訪部順一\nactor:49 関智一\nactor:50 高橋李依\nactor:51 高山みなみ\nactor:52 竹内順子\nactor:53 竹達彩奈\nactor:54 田中真弓\nactor:55 谷山紀章\nactor:56 種田梨沙\nactor:57 田村ゆかり\nactor:58 津田健次郎\nactor:59 東山奈央\nactor:60 徳井青空\nactor:61 戸松遥\nactor:62 豊崎愛生\nactor:63 中井和哉\nactor:64 中村悠一\nactor:65 夏川椎菜\nactor:66 浪川大輔\nactor:67 西山宏太朗\nactor:68 野沢雅子\nactor:69 花江夏樹\nactor:70 花澤香菜\nactor:71 林原めぐみ\nactor:72 早見沙織\nactor:73 日髙のり子\nactor:74 日高里菜\nactor:75 日野聡\nactor:76 福山潤\nactor:77 藤原啓治\nactor:78 細谷佳正\nactor:79 本渡楓\nactor:80 増田俊樹\nactor:81 松岡禎丞\nactor:82 水樹奈々\nactor:83 緑川光\nactor:84 水瀬いのり\nactor:85 三森すずこ\nactor:86 宮野真守\nactor:87 森久保祥太郎\nactor:88 安元洋貴\nactor:89 山口勝平\nactor:90 山下大輝\nactor:91 山寺宏一\nactor:92 悠木碧\nactor:93 遊佐浩二\nactor:94 吉野裕行\n"
     ]
    }
   ],
   "source": [
    "options = webdriver.ChromeOptions()\n",
    "options.add_argument('--headless')\n",
    "driver = webdriver.Chrome(options=options)\n",
    "driver.implicitly_wait(30)\n",
    "\n",
    "for actor_index, person in enumerate(json_load):\n",
    "    print(f\"actor:{actor_index} {person}\")\n",
    "    continue\n",
    "    for i in range(len(json_load[person])):\n",
    "        character = str(json_load[person][i]['character'])\n",
    "        title = json_load[person][i]['title']\n",
    "        print(f\"actor:{actor_index} {person}, character: {character}, title: {title}\")\n",
    "    #url = requests.get(\"https://search.yahoo.co.jp/image/search?p=\"+str(chara)+\"&aq=-1&ai=71637427-3001-4372-9c9e-ab4f345256eb&ts=4502&sfp=1&ei=UTF-8&fr=sfp_as#c4e1721a389b3f704b59332677756c92580cefdbd461a814ab1cd09f8c289c61\")    \n",
    "        url = requests.get(f\"https://www.google.com/search?hl=jp&q={character} {title}&btnG=Google+Search&tbs=0&safe=off&tbm=isch\")\n",
    "        soup = BeautifulSoup(url.content, \"html.parser\")\n",
    "        url.close()\n",
    "        title = soup.title.string\n",
    "        links = soup.find_all(\"img\")\n",
    "        num = 1\n",
    "        if(len(links) == 1):\n",
    "            num = 0\n",
    "        elif (len(links) == 0):\n",
    "            continue\n",
    "        link = links[num].get(\"src\")\n",
    "        json_load[person][i]['img_url'] = link\n",
    "        \n",
    "        url = f\"https://www.google.com/search?hl=jp&q={character} {title}&btnG=Google+Search&tbs=0&safe=off\"\n",
    "        driver.get(url)\n",
    "        WebDriverWait(driver, 30).until(EC.presence_of_all_elements_located)\n",
    "        html = driver.page_source.encode('utf-8')\n",
    "        soup = BeautifulSoup(html, \"html.parser\")\n",
    "        if soup.find(attrs={\"id\":\"result-stats\"}):\n",
    "            hit_num =  soup.find(attrs={\"id\":\"result-stats\"}).contents[0].split()[1]\n",
    "            json_load[person][i]['hit_num'] = hit_num\n",
    "\n",
    "file_path = \"../data/voice_actors_with_img_url_and_hitnum.json\"\n",
    "outfile = codecs.open(file_path, 'w','utf-8')\n",
    "json.dump(json_load, outfile, ensure_ascii=False)"
   ]
  },
  {
   "cell_type": "code",
   "execution_count": null,
   "metadata": {},
   "outputs": [],
   "source": []
  }
 ],
 "metadata": {
  "kernelspec": {
   "name": "python3",
   "display_name": "Python 3.9.0 64-bit",
   "metadata": {
    "interpreter": {
     "hash": "ac2eaa0ea0ebeafcc7822e65e46aa9d4f966f30b695406963e145ea4a91cd4fc"
    }
   }
  },
  "language_info": {
   "codemirror_mode": {
    "name": "ipython",
    "version": 3
   },
   "file_extension": ".py",
   "mimetype": "text/x-python",
   "name": "python",
   "nbconvert_exporter": "python",
   "pygments_lexer": "ipython3",
   "version": "3.9.0-final"
  }
 },
 "nbformat": 4,
 "nbformat_minor": 4
}