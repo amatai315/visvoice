{
 "cells": [
  {
   "cell_type": "code",
   "execution_count": 41,
   "metadata": {},
   "outputs": [],
   "source": [
    "import requests\n",
    "import urllib\n",
    "from bs4 import BeautifulSoup\n",
    "import csv\n",
    "import pprint\n",
    "import json\n",
    "import codecs"
   ]
  },
  {
   "cell_type": "code",
   "execution_count": 42,
   "metadata": {},
   "outputs": [],
   "source": [
    "json_open = open(\"./data/voice_actors.json\")\n",
    "json_load = json.load(json_open)\n",
    "#print(json_load[\"麻倉もも\"])"
   ]
  },
  {
   "cell_type": "code",
   "execution_count": 43,
   "metadata": {},
   "outputs": [],
   "source": [
    "for person in json_load:\n",
    "    #print(len(json_load[person]))\n",
    "    for i in range(len(json_load[person])):\n",
    "    #url = requests.get(\"https://search.yahoo.co.jp/image/search?p=\"+str(chara)+\"&aq=-1&ai=71637427-3001-4372-9c9e-ab4f345256eb&ts=4502&sfp=1&ei=UTF-8&fr=sfp_as#c4e1721a389b3f704b59332677756c92580cefdbd461a814ab1cd09f8c289c61\")    \n",
    "        url = requests.get(\"https://www.google.com/search?hl=jp&q=\" + str(json_load[person][i]['character']) +\"  \" +  json_load[person][i]['title']+ \"&btnG=Google+Search&tbs=0&safe=off&tbm=isch\")\n",
    "        soup = BeautifulSoup(url.content, \"html.parser\")\n",
    "        url.close()\n",
    "        #print(soup)\n",
    "        title = soup.title.string\n",
    "        #print(title)\n",
    "        links = soup.find_all(\"img\")\n",
    "        #print(links)\n",
    "        #print(len(links))\n",
    "        num = 1\n",
    "        if(len(links) == 1):\n",
    "            num = 0\n",
    "        elif (len(links) == 0):\n",
    "            continue\n",
    "        link = links[num].get(\"src\")\n",
    "        #print(link)\n",
    "        json_load[person][i]['img_url'] = link\n",
    "\n",
    "#print(csv_list)\n",
    "#file = open(\"./data/voice_actors_with_img_url.json\",\"w\")\n",
    "#writejson = json.writer(file, lineterminator='\\n')\n",
    "#writecsv.writerows(csv_list)\n",
    "#file.close()\n",
    "file_path = \"./data/voice_actors_with_img_url.json\"\n",
    "outfile = codecs.open(file_path, 'w','utf-8')\n",
    "json.dump(json_load, outfile, ensure_ascii=False)"
   ]
  },
  {
   "cell_type": "code",
   "execution_count": null,
   "metadata": {},
   "outputs": [],
   "source": []
  }
 ],
 "metadata": {
  "kernelspec": {
   "display_name": "Python 3",
   "language": "python",
   "name": "python3"
  },
  "language_info": {
   "codemirror_mode": {
    "name": "ipython",
    "version": 3
   },
   "file_extension": ".py",
   "mimetype": "text/x-python",
   "name": "python",
   "nbconvert_exporter": "python",
   "pygments_lexer": "ipython3",
   "version": "3.8.3"
  }
 },
 "nbformat": 4,
 "nbformat_minor": 4
}
